{
 "cells": [
  {
   "cell_type": "code",
   "execution_count": 1,
   "id": "c2ff58df-c1d6-41dc-991b-2ba19ce24b25",
   "metadata": {},
   "outputs": [],
   "source": [
    "import openke\n",
    "from openke.config import Trainer, Tester\n",
    "from openke.module.model import TransD\n",
    "from openke.module.loss import MarginLoss\n",
    "from openke.module.strategy import NegativeSampling\n",
    "from openke.data import TrainDataLoader, TestDataLoader, EmbeddingDataLoader\n",
    "import torch\n",
    "import torch.nn.functional as F\n",
    "import random\n",
    "import time\n",
    "from tqdm import tqdm"
   ]
  },
  {
   "cell_type": "code",
   "execution_count": 2,
   "id": "fdffc7e9-6676-403d-9371-63e15b5baf1b",
   "metadata": {},
   "outputs": [],
   "source": [
    "def compute_embedding(model, e1, e2):\n",
    "    e1 = torch.tensor(e1, dtype=torch.long).to(device)\n",
    "    e2 = torch.tensor(e2, dtype=torch.long).to(device)\n",
    "    embed_1 = model.ent_embeddings(e1)\n",
    "    embed_2 = model.ent_embeddings(e2)\n",
    "    embedding = embed_1 - embed_2\n",
    "    return embedding"
   ]
  },
  {
   "cell_type": "code",
   "execution_count": 3,
   "id": "01457ce4-5d88-4e97-b84f-323f447673b6",
   "metadata": {},
   "outputs": [],
   "source": [
    "lr = 5e-6\n",
    "n_cluster = 3\n",
    "device = torch.device('cuda')"
   ]
  },
  {
   "cell_type": "code",
   "execution_count": 4,
   "id": "313f3694-ed0b-4ebb-bae1-444bf3daf60f",
   "metadata": {},
   "outputs": [],
   "source": [
    "Cosine_dataloader = TrainDataLoader(\n",
    "    in_path=None,\n",
    "    tri_file='./benchmarks/YAGO3-10/train2id.txt',\n",
    "    ent_file=\"./benchmarks/YAGO3-10/entity2id.txt\",\n",
    "    rel_file=\"./benchmarks/YAGO3-10/relation2id.txt\",\n",
    "    nbatches=100,\n",
    "    threads=8,\n",
    "    sampling_mode=\"normal\",\n",
    "    bern_flag=1,\n",
    "    filter_flag=1,\n",
    "    neg_ent=25,\n",
    "    neg_rel=0)\n",
    "Cosine_model = TransD(\n",
    "\tent_tot = Cosine_dataloader.get_ent_tot(),\n",
    "\trel_tot = Cosine_dataloader.get_rel_tot(),\n",
    "\tdim_e = 200, \n",
    "\tdim_r = 200, \n",
    "\tp_norm = 1, \n",
    "\tnorm_flag = True)\n",
    "\n",
    "Cosine_model.to(device)\n",
    "Cosine_model.load_checkpoint('./checkpoint/YAGO/YAGO_TransD.ckpt')"
   ]
  },
  {
   "cell_type": "code",
   "execution_count": 5,
   "id": "adf2f738-df09-4bb3-a8b3-3c0289aeaa3f",
   "metadata": {},
   "outputs": [
    {
     "name": "stderr",
     "output_type": "stream",
     "text": [
      "/home/bhui/miniconda3/envs/xy_py38/lib/python3.8/site-packages/sklearn/cluster/_kmeans.py:1416: FutureWarning: The default value of `n_init` will change from 10 to 'auto' in 1.4. Set the value of `n_init` explicitly to suppress the warning\n",
      "  super()._check_params_vs_input(X, default_n_init=10)\n"
     ]
    }
   ],
   "source": [
    "tri_file = './benchmarks/YAGO3-10/train2id.txt'\n",
    "unlearn_file = './benchmarks/YAGO3-10/deleted_node_unlearning.txt'\n",
    "schema_file = './benchmarks/YAGO3-10/type_constrain.txt'\n",
    "weight_file = './checkpoint/YAGO/YAGO_TransD.ckpt'\n",
    "\n",
    "Schema_dataloader = EmbeddingDataLoader.CosineSchemaDataLoader(\n",
    "    n_clusters=n_cluster,\n",
    "    tri_file=tri_file,\n",
    "    unlearn_file=unlearn_file,\n",
    "    schema_file=schema_file,\n",
    "    weight_file=weight_file)\n",
    "Cosine_Sampling = NegativeSampling(\n",
    "\tmodel = Cosine_model, \n",
    "\tloss = MarginLoss(margin = 5.0),\n",
    "\tbatch_size = Cosine_dataloader.get_batch_size()\n",
    ")\n",
    "\n",
    "trainer = Trainer(model = Cosine_Sampling, \n",
    "                  data_loader = Cosine_dataloader, \n",
    "                  train_times = 1000, \n",
    "                  alpha = lr, \n",
    "                  use_gpu = True)\n",
    "trainer.optimizer = torch.optim.Adam(\n",
    "    trainer.model.parameters(),\n",
    "    lr=trainer.alpha,\n",
    "    weight_decay=trainer.weight_decay,\n",
    ")"
   ]
  },
  {
   "cell_type": "code",
   "execution_count": 6,
   "id": "83bcf270-b8c6-4ff8-8881-8ea3ad741d00",
   "metadata": {},
   "outputs": [
    {
     "name": "stderr",
     "output_type": "stream",
     "text": [
      "Processing triples (Loss: 0.6570):   0%|                                           | 17/95344 [00:00<8:34:03,  3.09it/s]"
     ]
    },
    {
     "name": "stdout",
     "output_type": "stream",
     "text": [
      "Training Files Path : ./benchmarks/YAGO3-10/train2id.txt\n",
      "Entity Files Path : ./benchmarks/YAGO3-10/entity2id.txt\n",
      "Relation Files Path : ./benchmarks/YAGO3-10/relation2id.txt\n",
      "The toolkit is importing datasets.\n",
      "The total of relations is 37.\n",
      "The total of entities is 123182.\n",
      "The total of train triples is 1079040.\n"
     ]
    },
    {
     "name": "stderr",
     "output_type": "stream",
     "text": [
      "Processing triples (Loss: 0.5794): 100%|██████████████████████████████████████████| 95344/95344 [16:49<00:00, 94.44it/s]"
     ]
    },
    {
     "name": "stdout",
     "output_type": "stream",
     "text": [
      "Running Time: 1009.6234107017517s\n"
     ]
    },
    {
     "name": "stderr",
     "output_type": "stream",
     "text": [
      "\n"
     ]
    }
   ],
   "source": [
    "start_time = time.time()\n",
    "total_loss = 0.0\n",
    "\n",
    "\n",
    "with tqdm(total=len(Schema_dataloader.removed_triples), desc=\"Processing triples\") as pbar:\n",
    "    for idx, data in enumerate(Schema_dataloader.removed_triples):\n",
    "        trainer.optimizer.zero_grad()\n",
    "        max_similarity = float('-inf')\n",
    "        all_iterations = 10\n",
    "        loss_value = 0.0\n",
    "        e1, e2, e3, e4 = None, None, None, None\n",
    "        attempts = 0\n",
    "        max_attempts = 10\n",
    "        while (e1 is None or e2 is None or e3 is None or e4 is None) and attempts < max_attempts:\n",
    "            e1, e2, e3, e4 = Schema_dataloader.query_match_entity(Schema_dataloader.triples, \n",
    "                                                           Schema_dataloader.adj_matrix, \n",
    "                                                           data,\n",
    "                                                           Schema_dataloader.labels)\n",
    "            attempts += 1\n",
    "        if attempts >= max_attempts:\n",
    "            pbar.update(1)\n",
    "            continue\n",
    "            \n",
    "        Embed_Query = compute_embedding(Cosine_model, e1, e2)\n",
    "        Embed_Match = compute_embedding(Cosine_model, e3, e4)\n",
    "        cosine_similarity = torch.nn.functional.cosine_similarity(Embed_Query, Embed_Match, dim=0)\n",
    "        if cosine_similarity > max_similarity:\n",
    "            max_similarity = cosine_similarity\n",
    "        loss_value = 1 - max_similarity\n",
    "        loss_value.backward()\n",
    "        total_loss += loss_value.item()\n",
    "        trainer.optimizer.step()\n",
    "        pbar.set_description(f\"Processing triples (Loss: {total_loss / (idx + 1):.4f})\")\n",
    "        pbar.update(1)\n",
    "print(f'Running Time: {time.time() - start_time}s')"
   ]
  },
  {
   "cell_type": "code",
   "execution_count": 7,
   "id": "02fa0e19-1afb-473c-97ad-8d13b829a505",
   "metadata": {},
   "outputs": [
    {
     "name": "stdout",
     "output_type": "stream",
     "text": [
      "Input Files Path : ./benchmarks/YAGO3-10/\n",
      "The total of test triples is 5000.\n",
      "The total of valid triples is 5000.\n"
     ]
    },
    {
     "name": "stderr",
     "output_type": "stream",
     "text": [
      "100%|██████████████████████████████████████████████████████████████████████████████| 5000/5000 [00:37<00:00, 135.12it/s]"
     ]
    },
    {
     "name": "stdout",
     "output_type": "stream",
     "text": [
      "0.510699987411499\n"
     ]
    },
    {
     "name": "stderr",
     "output_type": "stream",
     "text": [
      "\n"
     ]
    },
    {
     "data": {
      "text/plain": [
       "(0.29329913854599,\n",
       " 1541.779052734375,\n",
       " 0.510699987411499,\n",
       " 0.3443000018596649,\n",
       " 0.18140000104904175)"
      ]
     },
     "execution_count": 7,
     "metadata": {},
     "output_type": "execute_result"
    },
    {
     "name": "stdout",
     "output_type": "stream",
     "text": [
      "no type constraint results:\n",
      "metric:\t\t\t MRR \t\t MR \t\t hit@10 \t hit@3  \t hit@1 \n",
      "l(raw):\t\t\t 0.044089 \t 4716.991211 \t 0.108600 \t 0.036600 \t 0.009400 \n",
      "r(raw):\t\t\t 0.206214 \t 473.699799 \t 0.564000 \t 0.198400 \t 0.075800 \n",
      "averaged(raw):\t\t 0.125151 \t 2595.345459 \t 0.336300 \t 0.117500 \t 0.042600 \n",
      "\n",
      "l(filter):\t\t 0.165946 \t 2615.651855 \t 0.307200 \t 0.184200 \t 0.092800 \n",
      "r(filter):\t\t 0.420652 \t 467.906189 \t 0.714200 \t 0.504400 \t 0.270000 \n",
      "averaged(filter):\t 0.293299 \t 1541.779053 \t 0.510700 \t 0.344300 \t 0.181400 \n",
      "0.510700\n"
     ]
    }
   ],
   "source": [
    "Cosine_model.save_checkpoint(f'./checkpoint/YAGO/Entity_Unlearning_TransD_YAGO.ckpt')\n",
    "\n",
    "test_dataloader = TestDataLoader(\"./benchmarks/YAGO3-10/\", \"link\")\n",
    "tester = Tester(model = Cosine_model, data_loader = test_dataloader, use_gpu = True)\n",
    "tester.run_link_prediction(type_constrain = False)\n"
   ]
  },
  {
   "cell_type": "code",
   "execution_count": null,
   "id": "d9238450-fab0-44d5-b29d-399e6752777c",
   "metadata": {},
   "outputs": [],
   "source": []
  }
 ],
 "metadata": {
  "kernelspec": {
   "display_name": "Py38",
   "language": "python",
   "name": "xy_py38"
  },
  "language_info": {
   "codemirror_mode": {
    "name": "ipython",
    "version": 3
   },
   "file_extension": ".py",
   "mimetype": "text/x-python",
   "name": "python",
   "nbconvert_exporter": "python",
   "pygments_lexer": "ipython3",
   "version": "3.8.18"
  }
 },
 "nbformat": 4,
 "nbformat_minor": 5
}
