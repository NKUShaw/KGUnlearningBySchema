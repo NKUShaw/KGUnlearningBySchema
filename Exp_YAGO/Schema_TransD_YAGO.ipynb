{
 "cells": [
  {
   "cell_type": "code",
   "execution_count": 1,
   "id": "c2ff58df-c1d6-41dc-991b-2ba19ce24b25",
   "metadata": {},
   "outputs": [],
   "source": [
    "import openke\n",
    "from openke.config import Trainer, Tester\n",
    "from openke.module.model import TransD\n",
    "from openke.module.loss import MarginLoss\n",
    "from openke.module.strategy import NegativeSampling\n",
    "from openke.data import TrainDataLoader, TestDataLoader, EmbeddingDataLoader\n",
    "import torch\n",
    "import torch.nn.functional as F\n",
    "import random\n",
    "import time\n",
    "from tqdm import tqdm"
   ]
  },
  {
   "cell_type": "code",
   "execution_count": 2,
   "id": "fdffc7e9-6676-403d-9371-63e15b5baf1b",
   "metadata": {},
   "outputs": [],
   "source": [
    "def compute_embedding(model, e1, e2):\n",
    "    e1 = torch.tensor(e1, dtype=torch.long).to(device)\n",
    "    e2 = torch.tensor(e2, dtype=torch.long).to(device)\n",
    "    embed_1 = model.ent_embeddings(e1)\n",
    "    embed_2 = model.ent_embeddings(e2)\n",
    "    embedding = embed_1 - embed_2\n",
    "    return embedding"
   ]
  },
  {
   "cell_type": "code",
   "execution_count": 3,
   "id": "01457ce4-5d88-4e97-b84f-323f447673b6",
   "metadata": {},
   "outputs": [],
   "source": [
    "lr = 5e-6\n",
    "n_cluster = 3\n",
    "device = torch.device('cuda:1')"
   ]
  },
  {
   "cell_type": "code",
   "execution_count": 6,
   "id": "313f3694-ed0b-4ebb-bae1-444bf3daf60f",
   "metadata": {},
   "outputs": [],
   "source": [
    "Cosine_dataloader = TrainDataLoader(\n",
    "    in_path=None,\n",
    "    tri_file='./benchmarks/YAGO3-10/train2id.txt',\n",
    "    ent_file=\"./benchmarks/YAGO3-10/entity2id.txt\",\n",
    "    rel_file=\"./benchmarks/YAGO3-10/relation2id.txt\",\n",
    "    nbatches=100,\n",
    "    threads=8,\n",
    "    sampling_mode=\"normal\",\n",
    "    bern_flag=1,\n",
    "    filter_flag=1,\n",
    "    neg_ent=25,\n",
    "    neg_rel=0)\n",
    "Cosine_model = TransD(\n",
    "\tent_tot = Cosine_dataloader.get_ent_tot(),\n",
    "\trel_tot = Cosine_dataloader.get_rel_tot(),\n",
    "\tdim_e = 200, \n",
    "\tdim_r = 200, \n",
    "\tp_norm = 1, \n",
    "\tnorm_flag = True)\n",
    "\n",
    "Cosine_model.to(device)\n",
    "Cosine_model.load_checkpoint('./checkpoint/YAGO/YAGO_TransD.ckpt')"
   ]
  },
  {
   "cell_type": "code",
   "execution_count": 7,
   "id": "83bcf270-b8c6-4ff8-8881-8ea3ad741d00",
   "metadata": {},
   "outputs": [
    {
     "name": "stderr",
     "output_type": "stream",
     "text": [
      "/home/bhui/miniconda3/envs/xy_py38/lib/python3.8/site-packages/sklearn/cluster/_kmeans.py:1416: FutureWarning: The default value of `n_init` will change from 10 to 'auto' in 1.4. Set the value of `n_init` explicitly to suppress the warning\n",
      "  super()._check_params_vs_input(X, default_n_init=10)\n",
      "Processing triples (Loss: 0.8565):   0%|                                            | 14/107904 [00:00<43:16, 41.55it/s]"
     ]
    },
    {
     "name": "stdout",
     "output_type": "stream",
     "text": [
      "Training Files Path : ./benchmarks/YAGO3-10/train2id.txt\n",
      "Entity Files Path : ./benchmarks/YAGO3-10/entity2id.txt\n",
      "Relation Files Path : ./benchmarks/YAGO3-10/relation2id.txt\n",
      "The toolkit is importing datasets.\n",
      "The total of relations is 37.\n",
      "The total of entities is 123182.\n",
      "The total of train triples is 1079040.\n",
      "Training Files Path : ./benchmarks/YAGO3-10/train2id.txt\n",
      "Entity Files Path : ./benchmarks/YAGO3-10/entity2id.txt\n",
      "Relation Files Path : ./benchmarks/YAGO3-10/relation2id.txt\n",
      "The toolkit is importing datasets.\n",
      "The total of relations is 37.\n",
      "The total of entities is 123182.\n",
      "The total of train triples is 1079040.\n",
      "Training Files Path : ./benchmarks/YAGO3-10/train2id.txt\n",
      "Entity Files Path : ./benchmarks/YAGO3-10/entity2id.txt\n",
      "Relation Files Path : ./benchmarks/YAGO3-10/relation2id.txt\n",
      "The toolkit is importing datasets.\n",
      "The total of relations is 37.\n",
      "The total of entities is 123182.\n",
      "The total of train triples is 1079040.\n"
     ]
    },
    {
     "name": "stderr",
     "output_type": "stream",
     "text": [
      "Processing triples (Loss: 0.6804):  42%|████████████████▋                       | 44861/107904 [07:19<08:28, 123.88it/s]IOPub message rate exceeded.\n",
      "The Jupyter server will temporarily stop sending output\n",
      "to the client in order to avoid crashing it.\n",
      "To change this limit, set the config variable\n",
      "`--ServerApp.iopub_msg_rate_limit`.\n",
      "\n",
      "Current values:\n",
      "ServerApp.iopub_msg_rate_limit=1000.0 (msgs/sec)\n",
      "ServerApp.rate_limit_window=3.0 (secs)\n",
      "\n",
      "Processing triples (Loss: 0.6088): 100%|███████████████████████████████████████| 107904/107904 [17:36<00:00, 102.10it/s]"
     ]
    },
    {
     "name": "stdout",
     "output_type": "stream",
     "text": [
      "Running Time: 1056.8283195495605s\n"
     ]
    },
    {
     "name": "stderr",
     "output_type": "stream",
     "text": [
      "\n"
     ]
    }
   ],
   "source": [
    "tri_file = './benchmarks/YAGO3-10/train2id.txt'\n",
    "unlearn_file = './benchmarks/YAGO3-10/deleted_0.1.txt'\n",
    "schema_file = './benchmarks/YAGO3-10/type_constrain.txt'\n",
    "weight_file = './checkpoint/YAGO/YAGO_TransD.ckpt'\n",
    "\n",
    "Schema_dataloader = EmbeddingDataLoader.CosineSchemaDataLoader(\n",
    "    n_clusters=n_cluster,\n",
    "    tri_file=tri_file,\n",
    "    unlearn_file=unlearn_file,\n",
    "    schema_file=schema_file,\n",
    "    weight_file=weight_file)\n",
    "Cosine_Sampling = NegativeSampling(\n",
    "\tmodel = Cosine_model, \n",
    "\tloss = MarginLoss(margin = 5.0),\n",
    "\tbatch_size = Cosine_dataloader.get_batch_size()\n",
    ")\n",
    "\n",
    "trainer = Trainer(model = Cosine_Sampling, \n",
    "                  data_loader = Cosine_dataloader, \n",
    "                  train_times = 1000, \n",
    "                  alpha = lr, \n",
    "                  use_gpu = True)\n",
    "trainer.optimizer = torch.optim.Adam(\n",
    "    trainer.model.parameters(),\n",
    "    lr=trainer.alpha,\n",
    "    weight_decay=trainer.weight_decay,\n",
    ")\n",
    "\n",
    "start_time = time.time()\n",
    "total_loss = 0.0\n",
    "\n",
    "with tqdm(total=len(Schema_dataloader.removed_triples), desc=\"Processing triples\") as pbar:\n",
    "    for idx, data in enumerate(Schema_dataloader.removed_triples):\n",
    "        trainer.optimizer.zero_grad()\n",
    "        max_similarity = float('-inf')\n",
    "        all_iterations = 10\n",
    "        loss_value = 0.0\n",
    "        e1, e2, e3, e4 = None, None, None, None\n",
    "        attempts = 0\n",
    "        max_attempts = 100\n",
    "        while (e1 is None or e2 is None or e3 is None or e4 is None) and attempts < max_attempts:\n",
    "            e1, e2, e3, e4 = Schema_dataloader.query_match(Schema_dataloader.triples, \n",
    "                                                           Schema_dataloader.adj_matrix, \n",
    "                                                           data,\n",
    "                                                           Schema_dataloader.labels)\n",
    "            attempts += 1\n",
    "        if attempts >= max_attempts:\n",
    "            pbar.update(1)\n",
    "            continue\n",
    "            \n",
    "        Embed_Query = compute_embedding(Cosine_model, e1, e2)\n",
    "        Embed_Match = compute_embedding(Cosine_model, e3, e4)\n",
    "        cosine_similarity = torch.nn.functional.cosine_similarity(Embed_Query, Embed_Match, dim=0)\n",
    "        if cosine_similarity > max_similarity:\n",
    "            max_similarity = cosine_similarity\n",
    "        loss_value = 1 - max_similarity\n",
    "        loss_value.backward()\n",
    "        total_loss += loss_value.item()\n",
    "        trainer.optimizer.step()\n",
    "        pbar.set_description(f\"Processing triples (Loss: {total_loss / (idx + 1):.4f})\")\n",
    "        pbar.update(1)\n",
    "print(f'Running Time: {time.time() - start_time}s')"
   ]
  },
  {
   "cell_type": "code",
   "execution_count": 8,
   "id": "02fa0e19-1afb-473c-97ad-8d13b829a505",
   "metadata": {},
   "outputs": [
    {
     "name": "stdout",
     "output_type": "stream",
     "text": [
      "Input Files Path : ./benchmarks/YAGO3-10/\n"
     ]
    },
    {
     "name": "stderr",
     "output_type": "stream",
     "text": [
      "  0%|                                                                                  | 4/5000 [00:00<02:33, 32.64it/s]"
     ]
    },
    {
     "name": "stdout",
     "output_type": "stream",
     "text": [
      "The total of test triples is 5000.\n",
      "The total of valid triples is 5000.\n"
     ]
    },
    {
     "name": "stderr",
     "output_type": "stream",
     "text": [
      "100%|███████████████████████████████████████████████████████████████████████████████| 5000/5000 [01:45<00:00, 47.41it/s]"
     ]
    },
    {
     "name": "stdout",
     "output_type": "stream",
     "text": [
      "0.5719000101089478\n"
     ]
    },
    {
     "name": "stderr",
     "output_type": "stream",
     "text": [
      "\n"
     ]
    },
    {
     "data": {
      "text/plain": [
       "(0.35049185156822205,\n",
       " 1854.574951171875,\n",
       " 0.5719000101089478,\n",
       " 0.41009998321533203,\n",
       " 0.2353000044822693)"
      ]
     },
     "execution_count": 8,
     "metadata": {},
     "output_type": "execute_result"
    },
    {
     "name": "stdout",
     "output_type": "stream",
     "text": [
      "no type constraint results:\n",
      "metric:\t\t\t MRR \t\t MR \t\t hit@10 \t hit@3  \t hit@1 \n",
      "l(raw):\t\t\t 0.039289 \t 4979.419922 \t 0.099800 \t 0.030200 \t 0.005800 \n",
      "r(raw):\t\t\t 0.215480 \t 633.339417 \t 0.615000 \t 0.208200 \t 0.083600 \n",
      "averaged(raw):\t\t 0.127385 \t 2806.379639 \t 0.357400 \t 0.119200 \t 0.044700 \n",
      "\n",
      "l(filter):\t\t 0.200001 \t 3081.729492 \t 0.399800 \t 0.224800 \t 0.105800 \n",
      "r(filter):\t\t 0.500983 \t 627.420410 \t 0.744000 \t 0.595400 \t 0.364800 \n",
      "averaged(filter):\t 0.350492 \t 1854.574951 \t 0.571900 \t 0.410100 \t 0.235300 \n",
      "0.571900\n"
     ]
    }
   ],
   "source": [
    "Cosine_model.save_checkpoint(f'./checkpoint/YAGO/TransD_Cosine_0.1_{lr}_n_{n_cluster}.ckpt')\n",
    "\n",
    "test_dataloader = TestDataLoader(\"./benchmarks/YAGO3-10/\", \"link\")\n",
    "tester = Tester(model = Cosine_model, data_loader = test_dataloader, use_gpu = True)\n",
    "tester.run_link_prediction(type_constrain = False)\n"
   ]
  },
  {
   "cell_type": "code",
   "execution_count": null,
   "id": "d9238450-fab0-44d5-b29d-399e6752777c",
   "metadata": {},
   "outputs": [],
   "source": []
  }
 ],
 "metadata": {
  "kernelspec": {
   "display_name": "Py38",
   "language": "python",
   "name": "xy_py38"
  },
  "language_info": {
   "codemirror_mode": {
    "name": "ipython",
    "version": 3
   },
   "file_extension": ".py",
   "mimetype": "text/x-python",
   "name": "python",
   "nbconvert_exporter": "python",
   "pygments_lexer": "ipython3",
   "version": "3.8.18"
  }
 },
 "nbformat": 4,
 "nbformat_minor": 5
}
