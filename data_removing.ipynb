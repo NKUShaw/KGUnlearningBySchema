{
 "cells": [
  {
   "cell_type": "code",
   "execution_count": 29,
   "id": "27f4a615-93e6-4ca2-8a81-af0cfc0f4834",
   "metadata": {},
   "outputs": [],
   "source": [
    "import numpy as np\n",
    "import time\n",
    "import random"
   ]
  },
  {
   "cell_type": "code",
   "execution_count": 30,
   "id": "ab8d4d1c-ff22-4eb0-a1f9-9f5363239b1a",
   "metadata": {},
   "outputs": [],
   "source": [
    "def load_data(file_path):\n",
    "    with open(file_path, 'r') as f:\n",
    "        lines = f.readlines()\n",
    "    num_triples = int(lines[0].strip())\n",
    "    triples = np.array([list(map(int, line.strip().split())) for line in lines[1:]])\n",
    "    return num_triples, triples\n",
    "\n",
    "def save_data(file_path, triples):\n",
    "    with open(file_path, 'w') as f:\n",
    "        f.write(f\"{len(triples)}\\n\")\n",
    "        for triple in triples:\n",
    "            f.write(\" \".join(map(str, triple)) + \"\\n\")"
   ]
  },
  {
   "cell_type": "code",
   "execution_count": 31,
   "id": "113c6343-0246-47f9-9b97-fecf23e8ee3b",
   "metadata": {},
   "outputs": [],
   "source": [
    "num_triples, triples = load_data('./benchmarks/FB15K237/train2id.txt')\n",
    "np.random.shuffle(triples)"
   ]
  },
  {
   "cell_type": "code",
   "execution_count": 32,
   "id": "7fa8c7f3-03a9-43b9-89b6-fd7f23743ae9",
   "metadata": {},
   "outputs": [],
   "source": [
    "nodes = np.unique(np.concatenate((triples[:, 0], triples[:, 1])))"
   ]
  },
  {
   "cell_type": "code",
   "execution_count": 33,
   "id": "1d39903f-b6df-46f4-8c71-c7af944dc81e",
   "metadata": {},
   "outputs": [],
   "source": [
    "num_nodes_to_choose = int(0.05* len(nodes))\n",
    "chosen_nodes = np.random.choice(nodes, num_nodes_to_choose, replace=False)"
   ]
  },
  {
   "cell_type": "code",
   "execution_count": 34,
   "id": "d2cd92bf-f2e5-48f7-9a60-fc8a644a09a9",
   "metadata": {},
   "outputs": [],
   "source": [
    "deleted_triples = []\n",
    "remaining_triples = []"
   ]
  },
  {
   "cell_type": "code",
   "execution_count": 35,
   "id": "712fc5f4-df78-467f-857d-6250560719eb",
   "metadata": {},
   "outputs": [
    {
     "name": "stdout",
     "output_type": "stream",
     "text": [
      "24380\n"
     ]
    }
   ],
   "source": [
    "for triple in triples:\n",
    "    if triple[0] in chosen_nodes or triple[1] in chosen_nodes:\n",
    "        deleted_triples.append(triple)\n",
    "    else:\n",
    "        remaining_triples.append(triple)\n",
    "\n",
    "deleted_triples = np.array(deleted_triples)\n",
    "remaining_triples = np.array(remaining_triples)\n",
    "print(len(deleted_triples))"
   ]
  },
  {
   "cell_type": "code",
   "execution_count": 36,
   "id": "9e1ec500-02ee-4b7a-a8c5-ffd19b7e418c",
   "metadata": {},
   "outputs": [],
   "source": [
    "save_data('./benchmarks/FB15K237/remain_node_unlearning.txt', remaining_triples)\n",
    "save_data('./benchmarks/FB15K237/deleted_node_unlearning.txt', deleted_triples)"
   ]
  },
  {
   "cell_type": "code",
   "execution_count": 37,
   "id": "b6601831-7d58-4bf4-8fa5-ce2f671a80f3",
   "metadata": {},
   "outputs": [
    {
     "name": "stdout",
     "output_type": "stream",
     "text": [
      "Fri Jun 14 17:27:40 2024       \n",
      "+---------------------------------------------------------------------------------------+\n",
      "| NVIDIA-SMI 535.161.07             Driver Version: 535.161.07   CUDA Version: 12.2     |\n",
      "|-----------------------------------------+----------------------+----------------------+\n",
      "| GPU  Name                 Persistence-M | Bus-Id        Disp.A | Volatile Uncorr. ECC |\n",
      "| Fan  Temp   Perf          Pwr:Usage/Cap |         Memory-Usage | GPU-Util  Compute M. |\n",
      "|                                         |                      |               MIG M. |\n",
      "|=========================================+======================+======================|\n",
      "|   0  NVIDIA L40S                    Off | 00000000:01:00.0 Off |                    0 |\n",
      "| N/A   66C    P0             244W / 350W |   9287MiB / 46068MiB |    100%      Default |\n",
      "|                                         |                      |                  N/A |\n",
      "+-----------------------------------------+----------------------+----------------------+\n",
      "|   1  NVIDIA L40S                    Off | 00000000:41:00.0 Off |                    0 |\n",
      "| N/A   39C    P0              81W / 350W |   1412MiB / 46068MiB |      0%      Default |\n",
      "|                                         |                      |                  N/A |\n",
      "+-----------------------------------------+----------------------+----------------------+\n",
      "                                                                                         \n",
      "+---------------------------------------------------------------------------------------+\n",
      "| Processes:                                                                            |\n",
      "|  GPU   GI   CI        PID   Type   Process name                            GPU Memory |\n",
      "|        ID   ID                                                             Usage      |\n",
      "|=======================================================================================|\n",
      "|    0   N/A  N/A     51931      C   .../miniconda3/envs/xy_py38/bin/python     1248MiB |\n",
      "|    0   N/A  N/A    853717      C   python                                     3424MiB |\n",
      "|    0   N/A  N/A   1002219      C   python                                      938MiB |\n",
      "|    0   N/A  N/A   1241764      C   python                                     1238MiB |\n",
      "|    0   N/A  N/A   1490563      C   python                                     2418MiB |\n",
      "|    1   N/A  N/A   1002219      C   python                                      520MiB |\n",
      "|    1   N/A  N/A   1490563      C   python                                      882MiB |\n",
      "+---------------------------------------------------------------------------------------+\n"
     ]
    }
   ],
   "source": [
    "!nvidia-smi"
   ]
  },
  {
   "cell_type": "code",
   "execution_count": null,
   "id": "ee184c97-bdbe-4d47-9088-b385092ce0de",
   "metadata": {},
   "outputs": [],
   "source": []
  }
 ],
 "metadata": {
  "kernelspec": {
   "display_name": "Py38",
   "language": "python",
   "name": "xy_py38"
  },
  "language_info": {
   "codemirror_mode": {
    "name": "ipython",
    "version": 3
   },
   "file_extension": ".py",
   "mimetype": "text/x-python",
   "name": "python",
   "nbconvert_exporter": "python",
   "pygments_lexer": "ipython3",
   "version": "3.8.18"
  }
 },
 "nbformat": 4,
 "nbformat_minor": 5
}
